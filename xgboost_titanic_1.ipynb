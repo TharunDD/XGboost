{
  "cells": [
    {
      "cell_type": "markdown",
      "metadata": {
        "id": "view-in-github",
        "colab_type": "text"
      },
      "source": [
        "<a href=\"https://colab.research.google.com/github/TharunDD/XGboost/blob/main/xgboost_titanic_1.ipynb\" target=\"_parent\"><img src=\"https://colab.research.google.com/assets/colab-badge.svg\" alt=\"Open In Colab\"/></a>"
      ]
    },
    {
      "cell_type": "code",
      "execution_count": null,
      "metadata": {
        "_cell_guid": "b1076dfc-b9ad-4769-8c92-a6c4dae69d19",
        "_uuid": "8f2839f25d086af736a60e9eeb907d3b93b6e0e5",
        "execution": {
          "iopub.execute_input": "2022-11-13T03:09:11.637022Z",
          "iopub.status.busy": "2022-11-13T03:09:11.636709Z",
          "iopub.status.idle": "2022-11-13T03:09:11.647838Z",
          "shell.execute_reply": "2022-11-13T03:09:11.64606Z",
          "shell.execute_reply.started": "2022-11-13T03:09:11.636999Z"
        },
        "trusted": true,
        "id": "yyMqPTAvpQil"
      },
      "outputs": [],
      "source": [
        "# This Python 3 environment comes with many helpful analytics libraries installed\n",
        "# It is defined by the kaggle/python Docker image: https://github.com/kaggle/docker-python\n",
        "# For example, here's several helpful packages to load\n",
        "\n",
        "import numpy as np # linear algebra\n",
        "import pandas as pd # data processing, CSV file I/O (e.g. pd.read_csv)\n",
        "\n",
        "# Input data files are available in the read-only \"../input/\" directory\n",
        "# For example, running this (by clicking run or pressing Shift+Enter) will list all files under the input directory\n",
        "\n",
        "import os\n",
        "for dirname, _, filenames in os.walk('/kaggle/input'):\n",
        "    for filename in filenames:\n",
        "        print(os.path.join(dirname, filename))\n",
        "\n",
        "# You can write up to 20GB to the current directory (/kaggle/working/) that gets preserved as output when you create a version using \"Save & Run All\"\n",
        "# You can also write temporary files to /kaggle/temp/, but they won't be saved outside of the current session"
      ]
    },
    {
      "cell_type": "code",
      "execution_count": null,
      "metadata": {
        "execution": {
          "iopub.execute_input": "2022-11-13T03:09:11.651696Z",
          "iopub.status.busy": "2022-11-13T03:09:11.650302Z",
          "iopub.status.idle": "2022-11-13T03:09:11.661935Z",
          "shell.execute_reply": "2022-11-13T03:09:11.660845Z",
          "shell.execute_reply.started": "2022-11-13T03:09:11.651615Z"
        },
        "trusted": true,
        "id": "ALsil9vXpQin"
      },
      "outputs": [],
      "source": [
        "from sklearn.metrics import confusion_matrix\n",
        "from sklearn import preprocessing\n",
        "import matplotlib.pyplot as plt\n",
        "from matplotlib.pyplot import figure\n",
        "import seaborn as sns\n",
        "%matplotlib inline\n",
        "from xgboost import XGBClassifier\n",
        "from xgboost import plot_tree\n",
        "from xgboost import plot_importance"
      ]
    },
    {
      "cell_type": "code",
      "execution_count": null,
      "metadata": {
        "execution": {
          "iopub.execute_input": "2022-11-13T03:09:11.664289Z",
          "iopub.status.busy": "2022-11-13T03:09:11.663802Z",
          "iopub.status.idle": "2022-11-13T03:09:11.705938Z",
          "shell.execute_reply": "2022-11-13T03:09:11.704594Z",
          "shell.execute_reply.started": "2022-11-13T03:09:11.664263Z"
        },
        "trusted": true,
        "id": "4V7C_eAPpQio"
      },
      "outputs": [],
      "source": [
        "train_df = pd.read_csv('../input/spaceship-titanic/train.csv')\n",
        "test_df  = pd.read_csv('../input/spaceship-titanic/test.csv')"
      ]
    },
    {
      "cell_type": "code",
      "execution_count": null,
      "metadata": {
        "execution": {
          "iopub.execute_input": "2022-11-13T03:09:11.708571Z",
          "iopub.status.busy": "2022-11-13T03:09:11.708179Z",
          "iopub.status.idle": "2022-11-13T03:09:11.729962Z",
          "shell.execute_reply": "2022-11-13T03:09:11.728432Z",
          "shell.execute_reply.started": "2022-11-13T03:09:11.708528Z"
        },
        "trusted": true,
        "id": "WFzDY4mwpQip"
      },
      "outputs": [],
      "source": [
        "train_df.head()"
      ]
    },
    {
      "cell_type": "code",
      "execution_count": null,
      "metadata": {
        "execution": {
          "iopub.execute_input": "2022-11-13T03:09:11.731759Z",
          "iopub.status.busy": "2022-11-13T03:09:11.731402Z",
          "iopub.status.idle": "2022-11-13T03:09:11.745344Z",
          "shell.execute_reply": "2022-11-13T03:09:11.744519Z",
          "shell.execute_reply.started": "2022-11-13T03:09:11.731718Z"
        },
        "trusted": true,
        "id": "DQqcSeKvpQip"
      },
      "outputs": [],
      "source": [
        "train_df.isnull().sum()"
      ]
    },
    {
      "cell_type": "code",
      "execution_count": null,
      "metadata": {
        "execution": {
          "iopub.execute_input": "2022-11-13T03:09:11.748918Z",
          "iopub.status.busy": "2022-11-13T03:09:11.748131Z",
          "iopub.status.idle": "2022-11-13T03:09:11.877311Z",
          "shell.execute_reply": "2022-11-13T03:09:11.87619Z",
          "shell.execute_reply.started": "2022-11-13T03:09:11.748888Z"
        },
        "trusted": true,
        "id": "uf4Botj9pQip"
      },
      "outputs": [],
      "source": [
        "sns.boxplot(x='FoodCourt',data=train_df)"
      ]
    },
    {
      "cell_type": "code",
      "execution_count": null,
      "metadata": {
        "execution": {
          "iopub.execute_input": "2022-11-13T03:09:11.878864Z",
          "iopub.status.busy": "2022-11-13T03:09:11.878589Z",
          "iopub.status.idle": "2022-11-13T03:09:11.885525Z",
          "shell.execute_reply": "2022-11-13T03:09:11.884738Z",
          "shell.execute_reply.started": "2022-11-13T03:09:11.878837Z"
        },
        "trusted": true,
        "id": "I5nd0oeMpQip"
      },
      "outputs": [],
      "source": [
        "train_df.loc[train_df['FoodCourt'] > 20000, 'FoodCourt'] = train_df.loc[train_df['FoodCourt'] < 20000, 'FoodCourt'].mean()"
      ]
    },
    {
      "cell_type": "code",
      "execution_count": null,
      "metadata": {
        "execution": {
          "iopub.execute_input": "2022-11-13T03:09:11.887477Z",
          "iopub.status.busy": "2022-11-13T03:09:11.886572Z",
          "iopub.status.idle": "2022-11-13T03:09:12.034954Z",
          "shell.execute_reply": "2022-11-13T03:09:12.034209Z",
          "shell.execute_reply.started": "2022-11-13T03:09:11.887447Z"
        },
        "trusted": true,
        "id": "SQJuViRHpQip"
      },
      "outputs": [],
      "source": [
        "sns.boxplot(x='Transported', y='ShoppingMall',data=train_df)\n"
      ]
    },
    {
      "cell_type": "code",
      "execution_count": null,
      "metadata": {
        "execution": {
          "iopub.execute_input": "2022-11-13T03:09:12.037018Z",
          "iopub.status.busy": "2022-11-13T03:09:12.035973Z",
          "iopub.status.idle": "2022-11-13T03:09:12.043885Z",
          "shell.execute_reply": "2022-11-13T03:09:12.042615Z",
          "shell.execute_reply.started": "2022-11-13T03:09:12.036988Z"
        },
        "trusted": true,
        "id": "GrlmZXuMpQip"
      },
      "outputs": [],
      "source": [
        "train_df.loc[train_df['ShoppingMall'] > 10000, 'ShoppingMall'] = train_df.loc[train_df['ShoppingMall'] < 10000, 'ShoppingMall'].mean()"
      ]
    },
    {
      "cell_type": "code",
      "execution_count": null,
      "metadata": {
        "execution": {
          "iopub.execute_input": "2022-11-13T03:09:12.047913Z",
          "iopub.status.busy": "2022-11-13T03:09:12.046994Z",
          "iopub.status.idle": "2022-11-13T03:09:12.150785Z",
          "shell.execute_reply": "2022-11-13T03:09:12.150036Z",
          "shell.execute_reply.started": "2022-11-13T03:09:12.047881Z"
        },
        "trusted": true,
        "id": "5SqHT8C9pQiq"
      },
      "outputs": [],
      "source": [
        "sns.boxplot(x='Spa',data=train_df)\n"
      ]
    },
    {
      "cell_type": "code",
      "execution_count": null,
      "metadata": {
        "execution": {
          "iopub.execute_input": "2022-11-13T03:09:12.153076Z",
          "iopub.status.busy": "2022-11-13T03:09:12.1523Z",
          "iopub.status.idle": "2022-11-13T03:09:12.159718Z",
          "shell.execute_reply": "2022-11-13T03:09:12.158938Z",
          "shell.execute_reply.started": "2022-11-13T03:09:12.153041Z"
        },
        "trusted": true,
        "id": "JvZiYGk9pQiq"
      },
      "outputs": [],
      "source": [
        "train_df.loc[train_df['Spa'] > 20000, 'Spa'] = train_df.loc[train_df['Spa'] < 20000, 'Spa'].mean()"
      ]
    },
    {
      "cell_type": "code",
      "execution_count": null,
      "metadata": {
        "execution": {
          "iopub.execute_input": "2022-11-13T03:09:12.161767Z",
          "iopub.status.busy": "2022-11-13T03:09:12.161183Z",
          "iopub.status.idle": "2022-11-13T03:09:12.270647Z",
          "shell.execute_reply": "2022-11-13T03:09:12.26903Z",
          "shell.execute_reply.started": "2022-11-13T03:09:12.161735Z"
        },
        "trusted": true,
        "id": "z5cP4CGEpQiq"
      },
      "outputs": [],
      "source": [
        "sns.boxplot(x='VRDeck',data=train_df)\n"
      ]
    },
    {
      "cell_type": "code",
      "execution_count": null,
      "metadata": {
        "execution": {
          "iopub.execute_input": "2022-11-13T03:09:12.278011Z",
          "iopub.status.busy": "2022-11-13T03:09:12.274408Z",
          "iopub.status.idle": "2022-11-13T03:09:12.288245Z",
          "shell.execute_reply": "2022-11-13T03:09:12.287259Z",
          "shell.execute_reply.started": "2022-11-13T03:09:12.277947Z"
        },
        "trusted": true,
        "id": "lt5cWMD8pQiq"
      },
      "outputs": [],
      "source": [
        "train_df.loc[train_df['VRDeck'] > 20000, 'VRDeck'] = train_df.loc[train_df['VRDeck'] < 20000, 'VRDeck'].mean()"
      ]
    },
    {
      "cell_type": "code",
      "execution_count": null,
      "metadata": {
        "execution": {
          "iopub.execute_input": "2022-11-13T03:09:12.293787Z",
          "iopub.status.busy": "2022-11-13T03:09:12.293013Z",
          "iopub.status.idle": "2022-11-13T03:09:12.457258Z",
          "shell.execute_reply": "2022-11-13T03:09:12.456245Z",
          "shell.execute_reply.started": "2022-11-13T03:09:12.29375Z"
        },
        "trusted": true,
        "id": "RcyJfr4jpQiq"
      },
      "outputs": [],
      "source": [
        "sns.boxplot(x='RoomService',data=train_df)\n"
      ]
    },
    {
      "cell_type": "code",
      "execution_count": null,
      "metadata": {
        "execution": {
          "iopub.execute_input": "2022-11-13T03:09:12.459778Z",
          "iopub.status.busy": "2022-11-13T03:09:12.458993Z",
          "iopub.status.idle": "2022-11-13T03:09:12.467605Z",
          "shell.execute_reply": "2022-11-13T03:09:12.46686Z",
          "shell.execute_reply.started": "2022-11-13T03:09:12.459739Z"
        },
        "trusted": true,
        "id": "Lt_gExffpQir"
      },
      "outputs": [],
      "source": [
        "train_df.loc[train_df['RoomService'] > 10000, 'RoomService'] = train_df.loc[train_df['RoomService'] < 10000, 'RoomService'].mean()"
      ]
    },
    {
      "cell_type": "code",
      "execution_count": null,
      "metadata": {
        "execution": {
          "iopub.execute_input": "2022-11-13T03:09:12.472018Z",
          "iopub.status.busy": "2022-11-13T03:09:12.468776Z",
          "iopub.status.idle": "2022-11-13T03:09:12.489283Z",
          "shell.execute_reply": "2022-11-13T03:09:12.487962Z",
          "shell.execute_reply.started": "2022-11-13T03:09:12.471977Z"
        },
        "trusted": true,
        "id": "NtqItMZ5pQir"
      },
      "outputs": [],
      "source": [
        "train_df.isnull().sum()\n"
      ]
    },
    {
      "cell_type": "code",
      "execution_count": null,
      "metadata": {
        "execution": {
          "iopub.execute_input": "2022-11-13T03:09:12.491412Z",
          "iopub.status.busy": "2022-11-13T03:09:12.490862Z",
          "iopub.status.idle": "2022-11-13T03:09:12.507306Z",
          "shell.execute_reply": "2022-11-13T03:09:12.505734Z",
          "shell.execute_reply.started": "2022-11-13T03:09:12.491378Z"
        },
        "trusted": true,
        "id": "IRYiPPn9pQir"
      },
      "outputs": [],
      "source": [
        "train_df['Age'].fillna(train_df['Age'].mean())\n",
        "train_df.fillna(method='ffill',inplace=True)\n",
        "test_df['Age'].fillna(test_df['Age'].mean())\n",
        "test_df.fillna(method='ffill',inplace=True)"
      ]
    },
    {
      "cell_type": "code",
      "execution_count": null,
      "metadata": {
        "execution": {
          "iopub.execute_input": "2022-11-13T03:09:12.509664Z",
          "iopub.status.busy": "2022-11-13T03:09:12.509303Z",
          "iopub.status.idle": "2022-11-13T03:09:12.545196Z",
          "shell.execute_reply": "2022-11-13T03:09:12.543964Z",
          "shell.execute_reply.started": "2022-11-13T03:09:12.509622Z"
        },
        "trusted": true,
        "id": "OsKherRQpQir"
      },
      "outputs": [],
      "source": [
        "train_df[['DeckName','DeckNumber','DeckSide']]=train_df['Cabin'].str.split('/',expand=True)\n",
        "test_df[['DeckName','DeckNumber','DeckSide']]=train_df['Cabin'].str.split('/',expand=True)"
      ]
    },
    {
      "cell_type": "code",
      "execution_count": null,
      "metadata": {
        "execution": {
          "iopub.execute_input": "2022-11-13T03:09:12.546814Z",
          "iopub.status.busy": "2022-11-13T03:09:12.54656Z",
          "iopub.status.idle": "2022-11-13T03:09:12.55389Z",
          "shell.execute_reply": "2022-11-13T03:09:12.552417Z",
          "shell.execute_reply.started": "2022-11-13T03:09:12.54679Z"
        },
        "trusted": true,
        "id": "kXEDk5_QpQir"
      },
      "outputs": [],
      "source": [
        "le = preprocessing.LabelEncoder()\n",
        "def converting_column(df,col,convertType):\n",
        "    if convertType=='OHE':\n",
        "        one_hot = pd.get_dummies(df[col],prefix=col)\n",
        "        df = df.drop(col,axis = 1)\n",
        "        df = df.join(one_hot)\n",
        "        return df\n",
        "    else:\n",
        "        df[col] = le.fit_transform(df[col])\n",
        "        return df"
      ]
    },
    {
      "cell_type": "code",
      "execution_count": null,
      "metadata": {
        "execution": {
          "iopub.execute_input": "2022-11-13T03:09:12.555672Z",
          "iopub.status.busy": "2022-11-13T03:09:12.555293Z",
          "iopub.status.idle": "2022-11-13T03:09:12.580896Z",
          "shell.execute_reply": "2022-11-13T03:09:12.579894Z",
          "shell.execute_reply.started": "2022-11-13T03:09:12.55564Z"
        },
        "trusted": true,
        "id": "Wwl_mqf4pQir"
      },
      "outputs": [],
      "source": [
        "train_df = converting_column(train_df,'HomePlanet','OHE')\n",
        "test_df = converting_column(test_df,'HomePlanet','OHE')"
      ]
    },
    {
      "cell_type": "code",
      "execution_count": null,
      "metadata": {
        "execution": {
          "iopub.execute_input": "2022-11-13T03:09:12.585607Z",
          "iopub.status.busy": "2022-11-13T03:09:12.584346Z",
          "iopub.status.idle": "2022-11-13T03:09:12.596849Z",
          "shell.execute_reply": "2022-11-13T03:09:12.595475Z",
          "shell.execute_reply.started": "2022-11-13T03:09:12.58555Z"
        },
        "trusted": true,
        "id": "bWnSQitkpQir"
      },
      "outputs": [],
      "source": [
        "train_df = converting_column(train_df,'Destination','FTR')\n",
        "test_df = converting_column(test_df,'Destination','FTR')"
      ]
    },
    {
      "cell_type": "code",
      "execution_count": null,
      "metadata": {
        "execution": {
          "iopub.execute_input": "2022-11-13T03:09:12.599485Z",
          "iopub.status.busy": "2022-11-13T03:09:12.598121Z",
          "iopub.status.idle": "2022-11-13T03:09:12.610732Z",
          "shell.execute_reply": "2022-11-13T03:09:12.609655Z",
          "shell.execute_reply.started": "2022-11-13T03:09:12.599446Z"
        },
        "trusted": true,
        "id": "ZCfIYyyXpQir"
      },
      "outputs": [],
      "source": [
        "train_df = converting_column(train_df,'CryoSleep','FTR')\n",
        "test_df = converting_column(test_df,'CryoSleep','FTR')"
      ]
    },
    {
      "cell_type": "code",
      "execution_count": null,
      "metadata": {
        "execution": {
          "iopub.execute_input": "2022-11-13T03:09:12.614451Z",
          "iopub.status.busy": "2022-11-13T03:09:12.614049Z",
          "iopub.status.idle": "2022-11-13T03:09:12.624331Z",
          "shell.execute_reply": "2022-11-13T03:09:12.622712Z",
          "shell.execute_reply.started": "2022-11-13T03:09:12.614421Z"
        },
        "trusted": true,
        "id": "tzaTGDgapQir"
      },
      "outputs": [],
      "source": [
        "train_df = converting_column(train_df,'VIP','FTR')\n",
        "test_df = converting_column(test_df,'VIP','FTR')"
      ]
    },
    {
      "cell_type": "code",
      "execution_count": null,
      "metadata": {
        "execution": {
          "iopub.execute_input": "2022-11-13T03:09:12.626091Z",
          "iopub.status.busy": "2022-11-13T03:09:12.625808Z",
          "iopub.status.idle": "2022-11-13T03:09:12.648879Z",
          "shell.execute_reply": "2022-11-13T03:09:12.647473Z",
          "shell.execute_reply.started": "2022-11-13T03:09:12.626062Z"
        },
        "trusted": true,
        "id": "UlIOh1g7pQir"
      },
      "outputs": [],
      "source": [
        "train_df['DeckName'] = le.fit_transform(train_df['DeckName'])\n",
        "train_df['DeckSide'] = le.fit_transform(train_df['DeckSide'])\n",
        "test_df['DeckName'] = le.fit_transform(test_df['DeckName'])\n",
        "test_df['DeckSide'] = le.fit_transform(test_df['DeckSide'])"
      ]
    },
    {
      "cell_type": "code",
      "execution_count": null,
      "metadata": {
        "execution": {
          "iopub.execute_input": "2022-11-13T03:09:12.650754Z",
          "iopub.status.busy": "2022-11-13T03:09:12.650134Z",
          "iopub.status.idle": "2022-11-13T03:09:12.674571Z",
          "shell.execute_reply": "2022-11-13T03:09:12.673288Z",
          "shell.execute_reply.started": "2022-11-13T03:09:12.650724Z"
        },
        "trusted": true,
        "id": "stf1PdOdpQir"
      },
      "outputs": [],
      "source": [
        "train_df.head()"
      ]
    },
    {
      "cell_type": "code",
      "execution_count": null,
      "metadata": {
        "execution": {
          "iopub.execute_input": "2022-11-13T03:09:12.676333Z",
          "iopub.status.busy": "2022-11-13T03:09:12.675851Z",
          "iopub.status.idle": "2022-11-13T03:09:12.686861Z",
          "shell.execute_reply": "2022-11-13T03:09:12.685895Z",
          "shell.execute_reply.started": "2022-11-13T03:09:12.676303Z"
        },
        "trusted": true,
        "id": "VbhI2vbKpQir"
      },
      "outputs": [],
      "source": [
        "train_df.drop(['PassengerId','Cabin','HomePlanet_Earth','HomePlanet_Europa','HomePlanet_Mars','DeckNumber','Name'],axis=1,inplace=True)\n",
        "test_df.drop(['PassengerId','Cabin','HomePlanet_Earth','HomePlanet_Europa','HomePlanet_Mars','DeckNumber','Name'],axis=1,inplace=True)\n"
      ]
    },
    {
      "cell_type": "code",
      "execution_count": null,
      "metadata": {
        "execution": {
          "iopub.execute_input": "2022-11-13T03:09:12.689126Z",
          "iopub.status.busy": "2022-11-13T03:09:12.68856Z",
          "iopub.status.idle": "2022-11-13T03:09:12.718574Z",
          "shell.execute_reply": "2022-11-13T03:09:12.717433Z",
          "shell.execute_reply.started": "2022-11-13T03:09:12.689094Z"
        },
        "trusted": true,
        "id": "WQAkvx7EpQis"
      },
      "outputs": [],
      "source": [
        "train_df.corr()\n"
      ]
    },
    {
      "cell_type": "code",
      "execution_count": null,
      "metadata": {
        "execution": {
          "iopub.execute_input": "2022-11-13T03:09:12.720568Z",
          "iopub.status.busy": "2022-11-13T03:09:12.720025Z",
          "iopub.status.idle": "2022-11-13T03:09:12.739909Z",
          "shell.execute_reply": "2022-11-13T03:09:12.738761Z",
          "shell.execute_reply.started": "2022-11-13T03:09:12.720535Z"
        },
        "trusted": true,
        "id": "MpEA07yupQis"
      },
      "outputs": [],
      "source": [
        "train_df['kids'] = train_df['Age'].apply(lambda x: 1 if x < 15 else 0)\n",
        "test_df['kids'] = test_df['Age'].apply(lambda x: 1 if x < 15 else 0)\n",
        "train_df = train_df.drop(['Age'], axis=1)\n",
        "test_df = test_df.drop(['Age'], axis=1)"
      ]
    },
    {
      "cell_type": "code",
      "execution_count": null,
      "metadata": {
        "execution": {
          "iopub.execute_input": "2022-11-13T03:09:12.741671Z",
          "iopub.status.busy": "2022-11-13T03:09:12.741196Z",
          "iopub.status.idle": "2022-11-13T03:09:12.750452Z",
          "shell.execute_reply": "2022-11-13T03:09:12.749563Z",
          "shell.execute_reply.started": "2022-11-13T03:09:12.741638Z"
        },
        "trusted": true,
        "id": "zW4uVJyzpQis"
      },
      "outputs": [],
      "source": [
        "x_train= train_df.drop(\"Transported\", axis=1)\n",
        "y_train= train_df[\"Transported\"]\n",
        "\n",
        "from sklearn.model_selection import train_test_split\n",
        "X_train, X_test, Y_train, Y_test = train_test_split(x_train, y_train, test_size = 0.25, random_state =1)"
      ]
    },
    {
      "cell_type": "code",
      "execution_count": null,
      "metadata": {
        "execution": {
          "iopub.execute_input": "2022-11-13T04:10:01.2427Z",
          "iopub.status.busy": "2022-11-13T04:10:01.2399Z",
          "iopub.status.idle": "2022-11-13T04:10:16.770525Z",
          "shell.execute_reply": "2022-11-13T04:10:16.769851Z",
          "shell.execute_reply.started": "2022-11-13T04:10:01.242654Z"
        },
        "trusted": true,
        "id": "4a_lmW0epQis"
      },
      "outputs": [],
      "source": [
        "params = {'learning_rate': 0.13,\n",
        "          'min_child_weight': 0.15,\n",
        "          'gamma': 0.25,\n",
        "          'subsample': 0.65,\n",
        "          'colsample_bytree': 0.85,\n",
        "          'colsample_bylevel': 0.64,\n",
        "          'max_depth': 4,\n",
        "          'n_estimators': 4500,\n",
        "          'reg_lambda': 2.25,\n",
        "          'monotone_constraints': '(0, -1)',\n",
        "          'use_label_encoder': False\n",
        "          }\n",
        "xgb_model = XGBClassifier()\n",
        "xgb_model.set_params(**params)\n",
        "mod = xgb_model.fit(X_train, Y_train)\n",
        "\n",
        "print(\"Performance on train data:\", mod.score(X_train, Y_train))\n",
        "print(mod.score(X_test,Y_test))"
      ]
    },
    {
      "cell_type": "code",
      "execution_count": null,
      "metadata": {
        "execution": {
          "iopub.execute_input": "2022-11-13T04:10:22.355664Z",
          "iopub.status.busy": "2022-11-13T04:10:22.355305Z",
          "iopub.status.idle": "2022-11-13T04:10:22.557682Z",
          "shell.execute_reply": "2022-11-13T04:10:22.556032Z",
          "shell.execute_reply.started": "2022-11-13T04:10:22.355639Z"
        },
        "trusted": true,
        "id": "kmbqlN2BpQis"
      },
      "outputs": [],
      "source": [
        "Y_pred =xgb_model.predict(test_df) == True\n",
        "submission=pd.read_csv('../input/spaceship-titanic/sample_submission.csv')\n",
        "submission['Transported'] = Y_pred\n",
        "submission.to_csv('submission.csv', index=False)"
      ]
    },
    {
      "cell_type": "code",
      "execution_count": null,
      "metadata": {
        "execution": {
          "iopub.execute_input": "2022-11-13T04:10:27.016324Z",
          "iopub.status.busy": "2022-11-13T04:10:27.01595Z",
          "iopub.status.idle": "2022-11-13T04:10:27.028294Z",
          "shell.execute_reply": "2022-11-13T04:10:27.026861Z",
          "shell.execute_reply.started": "2022-11-13T04:10:27.016286Z"
        },
        "trusted": true,
        "id": "DuCHqnWVpQis"
      },
      "outputs": [],
      "source": [
        "submission.head(20)\n"
      ]
    },
    {
      "cell_type": "code",
      "execution_count": null,
      "metadata": {
        "id": "fvK31EvWpQis"
      },
      "outputs": [],
      "source": []
    }
  ],
  "metadata": {
    "kaggle": {
      "accelerator": "none",
      "dataSources": [
        {
          "databundleVersionId": 3220602,
          "sourceId": 34377,
          "sourceType": "competition"
        }
      ],
      "dockerImageVersionId": 30301,
      "isGpuEnabled": false,
      "isInternetEnabled": true,
      "language": "python",
      "sourceType": "notebook"
    },
    "kernelspec": {
      "display_name": "Python 3",
      "language": "python",
      "name": "python3"
    },
    "language_info": {
      "codemirror_mode": {
        "name": "ipython",
        "version": 3
      },
      "file_extension": ".py",
      "mimetype": "text/x-python",
      "name": "python",
      "nbconvert_exporter": "python",
      "pygments_lexer": "ipython3",
      "version": "3.10.9"
    },
    "colab": {
      "provenance": [],
      "include_colab_link": true
    }
  },
  "nbformat": 4,
  "nbformat_minor": 0
}